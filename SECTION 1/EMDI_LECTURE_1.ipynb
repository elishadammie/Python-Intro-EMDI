{
 "cells": [
  {
   "cell_type": "markdown",
   "metadata": {},
   "source": [
    "It's my absolute pleasure to introduce to this course on python where we are going to learn about what programing is, why use python, what can you do with python and many more things\n",
    "\n",
    "And without any further ado let me introduce my self to you\n",
    "\n",
    "For the purpose of this course i will be known as **Sensei**, I am the curriculum lead for this course and will be one of the instructors that would be taking you in this course.\n",
    "    "
   ]
  },
  {
   "cell_type": "markdown",
   "metadata": {},
   "source": [
    "We all have heard about Computer Programming gaining a lot of popularity in the past 3 decades. So many students these days want to opt for a Computer Science stream in order to get a job at their dream tech company - Google, Facebook, Microsoft, Apple, and Amazon.\n",
    "\n",
    "## What is programming?\n",
    "As you learn Python throughout this course, there are a few things you should keep in mind.\n",
    "\n",
    "#### Understanding Programming in layman terms\n",
    "*Programming is a way to “instruct the computer to perform various tasks”.*\n",
    "\n",
    "  __“Instruct the computer”__: this basically means that you provide the computer a set of instructions that are written in a language that the computer can understand. The instructions could be of various types. For example:\n",
    "\n",
    "Adding 2 numbers,\n",
    "\n",
    "Rounding off a number, etc.\n",
    "\n",
    "\n",
    "Just like we humans can understand a few languages (English, Spanish, Mandarin, French, etc.), so is the case with computers. Computers understand instructions that are written in a specific syntactical form called a programming language.\n",
    "\n",
    "\n",
    "__“Perform various tasks”__: the tasks could be simple ones like we discussed above (adding 2 numbers, rounding off a number) or complex ones which may involve a sequence of multiple instructions. For example:\n",
    "\n",
    "Calculating simple interest, given principal, rate and time.\n",
    "\n",
    "Calculating the average return on a stock over the last 5 years.\n",
    "\n",
    "The above 2 tasks require complex calculations. They cannot usually be expressed in simple instructions like adding 2 numbers, etc.\n",
    "\n",
    "Hence, in summary, ___Programming is a way to tell computers to do a specific task.___\n",
    "\n",
    "\n",
    "Let’s get started!"
   ]
  },
  {
   "cell_type": "markdown",
   "metadata": {},
   "source": [
    "## What is Programming Language?\n",
    "As mentioned above, Computers understand instructions that are written in a ___specific syntactical___ form called a programming language. A programming language provides a way for a programmer to express a task so that it could be understood and executed by a computer. \n",
    "\n",
    "Some of the popular Programming languages are Python, C, C++, Java, etc."
   ]
  },
  {
   "cell_type": "markdown",
   "metadata": {},
   "source": [
    "## Programming in Python\n",
    "As you learn Python throughout this course, there are a few things you should keep in mind.\n",
    "\n",
    "    Python is case sensitive.\n",
    "\n",
    "    Spacing is important.\n",
    "\n",
    "    Use error messages to help you learn.\n",
    "\n",
    "Let’s get started!"
   ]
  },
  {
   "cell_type": "code",
   "execution_count": 6,
   "metadata": {},
   "outputs": [
    {
     "name": "stdout",
     "output_type": "stream",
     "text": [
      "Hello World\n"
     ]
    }
   ],
   "source": [
    "print(\"Hello World\")"
   ]
  },
  {
   "cell_type": "code",
   "execution_count": 7,
   "metadata": {},
   "outputs": [
    {
     "ename": "NameError",
     "evalue": "name 'Print' is not defined",
     "output_type": "error",
     "traceback": [
      "\u001b[0;31m---------------------------------------------------------------------------\u001b[0m",
      "\u001b[0;31mNameError\u001b[0m                                 Traceback (most recent call last)",
      "\u001b[0;32m<ipython-input-7-76108a059f25>\u001b[0m in \u001b[0;36m<module>\u001b[0;34m\u001b[0m\n\u001b[0;32m----> 1\u001b[0;31m \u001b[0mPrint\u001b[0m\u001b[0;34m(\u001b[0m\u001b[0;34m'Hello World'\u001b[0m\u001b[0;34m)\u001b[0m\u001b[0;34m\u001b[0m\u001b[0;34m\u001b[0m\u001b[0m\n\u001b[0m",
      "\u001b[0;31mNameError\u001b[0m: name 'Print' is not defined"
     ]
    }
   ],
   "source": [
    "Print('Hello World')"
   ]
  },
  {
   "cell_type": "markdown",
   "metadata": {},
   "source": [
    "What's Ahead\n",
    "###  Lesson 2: Data Types and Operators\n",
    "    * Data Types: Integers, Floats, Booleans, Strings, Lists, Tuples, Sets, Dictionaries\n",
    "    * Operators: Arithmetic, Assignment, Comparison, Logical, Membership, Identity\n",
    "    * Built-In Functions, Compound Data Structures, Type Conversion\n",
    "    * Whitespace and Style Guidelines\n",
    "### Lesson 3: Control Flow\n",
    "    *Conditional Statements\n",
    "    *Boolean Expressions\n",
    "    *For and While Loops\n",
    "    *Break and Continue\n",
    "    *Zip and Enumerate\n",
    "    *List Comprehensions\n",
    "### Lesson 4: Functions\n",
    "    *Defining Functions\n",
    "    *Variable Scope\n",
    "    *Documentation\n",
    "    *Lambda Expressions\n",
    "    *Iterators and Generators\n",
    "### Lesson 5: Scripting\n",
    "    *Python Installation and Environment Setup\n",
    "    *Running and Editing Python Scripts\n",
    "    *Interacting with User Input\n",
    "    *Handling Exceptions\n",
    "    *Reading and Writing Files\n",
    "    *Importing Local, Standard, and Third-Party Modules\n",
    "    *Experimenting with an Interpreter"
   ]
  },
  {
   "cell_type": "code",
   "execution_count": null,
   "metadata": {},
   "outputs": [],
   "source": []
  }
 ],
 "metadata": {
  "kernelspec": {
   "display_name": "Python 3",
   "language": "python",
   "name": "python3"
  },
  "language_info": {
   "codemirror_mode": {
    "name": "ipython",
    "version": 3
   },
   "file_extension": ".py",
   "mimetype": "text/x-python",
   "name": "python",
   "nbconvert_exporter": "python",
   "pygments_lexer": "ipython3",
   "version": "3.7.1"
  }
 },
 "nbformat": 4,
 "nbformat_minor": 2
}
