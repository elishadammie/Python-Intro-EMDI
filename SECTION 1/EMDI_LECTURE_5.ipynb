{
 "cells": [
  {
   "cell_type": "markdown",
   "metadata": {},
   "source": [
    "# Boolean Comparison and Logical Operators"
   ]
  },
  {
   "cell_type": "code",
   "execution_count": 1,
   "metadata": {},
   "outputs": [
    {
     "data": {
      "text/plain": [
       "False"
      ]
     },
     "execution_count": 1,
     "metadata": {},
     "output_type": "execute_result"
    }
   ],
   "source": [
    "True\n",
    "False"
   ]
  },
  {
   "cell_type": "code",
   "execution_count": 2,
   "metadata": {},
   "outputs": [
    {
     "data": {
      "text/plain": [
       "2"
      ]
     },
     "execution_count": 2,
     "metadata": {},
     "output_type": "execute_result"
    }
   ],
   "source": [
    "True + 1"
   ]
  },
  {
   "cell_type": "markdown",
   "metadata": {},
   "source": [
    "### Booleans, Comparison Operators, and Logical Operators\n",
    "The bool data type holds one of the values True or False, which are often encoded as 1 or 0, respectively.\n",
    "\n",
    "There are 6 comparison operators that are common to see in order to obtain a bool value:\n",
    "\n",
    "### Comparison Operators\n",
    "#### Symbol Use Case\tBool\tOperation\n",
    "    5 < 3\tFalse\tLess Than\n",
    "    5 > 3\tTrue\tGreater Than\n",
    "    3 <= 3\tTrue\tLess Than or Equal To\n",
    "    3 >= 5\tFalse\tGreater Than or Equal To\n",
    "    3 == 5\tFalse\tEqual To\n",
    "    3 != 5\tTrue\tNot Equal To\n",
    "And there are three logical operators you need to be familiar with:\n",
    "\n",
    "#### Logical Use Bool Operation\n",
    "    5 < 3 and 5 == 5\tFalse\tand - Evaluates if all provided statements are True\n",
    "    5 < 3 or 5 == 5\tTrue\tor - Evaluates if at least one of many statements is True\n",
    "    not 5 < 3\tTrue\tnot - Flips the Bool Value\n",
    "[Here](https://www.irishtimes.com/news/science/how-george-boole-s-zeroes-and-ones-changed-the-world-1.2014673) is more information on how George Boole changed the world!"
   ]
  },
  {
   "cell_type": "code",
   "execution_count": 3,
   "metadata": {},
   "outputs": [
    {
     "data": {
      "text/plain": [
       "False"
      ]
     },
     "execution_count": 3,
     "metadata": {},
     "output_type": "execute_result"
    }
   ],
   "source": [
    "5 < 3\n"
   ]
  },
  {
   "cell_type": "code",
   "execution_count": 4,
   "metadata": {},
   "outputs": [
    {
     "data": {
      "text/plain": [
       "True"
      ]
     },
     "execution_count": 4,
     "metadata": {},
     "output_type": "execute_result"
    }
   ],
   "source": [
    "5 > 3"
   ]
  },
  {
   "cell_type": "code",
   "execution_count": 5,
   "metadata": {},
   "outputs": [
    {
     "data": {
      "text/plain": [
       "True"
      ]
     },
     "execution_count": 5,
     "metadata": {},
     "output_type": "execute_result"
    }
   ],
   "source": [
    "3 <= 3"
   ]
  },
  {
   "cell_type": "code",
   "execution_count": 6,
   "metadata": {},
   "outputs": [
    {
     "data": {
      "text/plain": [
       "False"
      ]
     },
     "execution_count": 6,
     "metadata": {},
     "output_type": "execute_result"
    }
   ],
   "source": [
    "3 >= 5"
   ]
  },
  {
   "cell_type": "code",
   "execution_count": 7,
   "metadata": {},
   "outputs": [
    {
     "data": {
      "text/plain": [
       "False"
      ]
     },
     "execution_count": 7,
     "metadata": {},
     "output_type": "execute_result"
    }
   ],
   "source": [
    "3 == 5"
   ]
  },
  {
   "cell_type": "code",
   "execution_count": 8,
   "metadata": {},
   "outputs": [
    {
     "data": {
      "text/plain": [
       "True"
      ]
     },
     "execution_count": 8,
     "metadata": {},
     "output_type": "execute_result"
    }
   ],
   "source": [
    "3 != 5"
   ]
  },
  {
   "cell_type": "markdown",
   "metadata": {},
   "source": [
    "# Quiz: Which is denser, Rio or San Francisco?\n",
    "    Try comparison operators in this quiz! This code calculates the population densities of Rio de Janeiro and San Francisco.\n",
    "\n",
    "    Write code to compare these densities. Is the population of San Francisco more dense than that of Rio de Janeiro? Print True if it is and False if not."
   ]
  },
  {
   "cell_type": "code",
   "execution_count": 9,
   "metadata": {},
   "outputs": [
    {
     "data": {
      "text/plain": [
       "False"
      ]
     },
     "execution_count": 9,
     "metadata": {},
     "output_type": "execute_result"
    }
   ],
   "source": [
    "sf_population, sf_area = 864816, 231.89\n",
    "rio_population, rio_area = 6453682, 486.5\n",
    "\n",
    "san_francisco_pop_density = sf_population/sf_area\n",
    "rio_de_janeiro_pop_density = rio_population/rio_area\n",
    "\n",
    "# Write code that prints True if San Francisco is denser than Rio, and False otherwise\n",
    "san_francisco_pop_density > rio_de_janeiro_pop_density"
   ]
  },
  {
   "cell_type": "markdown",
   "metadata": {},
   "source": [
    "#### Why ==?\n",
    "\n",
    "\n",
    "    Why do you think Python uses == for checking equality rather than =?"
   ]
  },
  {
   "cell_type": "code",
   "execution_count": 2,
   "metadata": {},
   "outputs": [],
   "source": [
    "emails = ['elishadammie@gmail.com', 'kdfadairo@futa.edu.ng', 'daniel@ebay.com', 'maxwell78@amazon.com', 'dammie@microsoft.co.uk']"
   ]
  },
  {
   "cell_type": "code",
   "execution_count": 12,
   "metadata": {},
   "outputs": [
    {
     "data": {
      "text/plain": [
       "True"
      ]
     },
     "execution_count": 12,
     "metadata": {},
     "output_type": "execute_result"
    }
   ],
   "source": [
    "True == 1"
   ]
  },
  {
   "cell_type": "markdown",
   "metadata": {},
   "source": [
    "\n",
    "1. True and True\n",
    "2. False and True\n",
    "3. 1 == 1 and 2 == 1\n",
    "4. \"test\" == \"test\"\n",
    "5. 1 == 1 or 2 != 1\n",
    "6. True and 1 == 1\n",
    "7. False and 0 != 0\n",
    "8. True or 1 == 1\n",
    "9. \"test\" == \"testing\"\n",
    "10. 1 != 0 and 2 == 1\n",
    "11. \"test\" != \"testing\"\n",
    "12. \"test\" == 1\n",
    "13. not (True and False)\n",
    "14. not (1 == 1 and 0 != 1)\n",
    "15. not (10 == 1 or 1000 == 1000)\n",
    "16. not (1 != 10 or 3 == 4)\n",
    "17. not (\"testing\" == \"testing\" and \"Zed\" == \"Cool Guy\")\n",
    "18. 1 == 1 and not (\"testing\" == 1 or 1 == 0)\n",
    "19. \"chunky\" == \"bacon\" and not (3 == 4 or 3 == 3)\n",
    "20. 3 == 3 and not (\"testing\" == \"testing\" or \"Python\" == \"Fun\")\n"
   ]
  },
  {
   "cell_type": "code",
   "execution_count": 13,
   "metadata": {},
   "outputs": [
    {
     "data": {
      "text/plain": [
       "False"
      ]
     },
     "execution_count": 13,
     "metadata": {},
     "output_type": "execute_result"
    }
   ],
   "source": [
    "3 != 4 and not (\"testing\" != \"test\" or \"Python\" == \"Python\")"
   ]
  },
  {
   "cell_type": "code",
   "execution_count": 14,
   "metadata": {},
   "outputs": [],
   "source": [
    "# Python Identity Operators"
   ]
  },
  {
   "cell_type": "code",
   "execution_count": 15,
   "metadata": {},
   "outputs": [],
   "source": [
    "x = 2\n",
    "y = 3"
   ]
  },
  {
   "cell_type": "code",
   "execution_count": 16,
   "metadata": {},
   "outputs": [
    {
     "data": {
      "text/plain": [
       "False"
      ]
     },
     "execution_count": 16,
     "metadata": {},
     "output_type": "execute_result"
    }
   ],
   "source": [
    "x is y"
   ]
  },
  {
   "cell_type": "code",
   "execution_count": 24,
   "metadata": {},
   "outputs": [],
   "source": [
    "x = 67\n",
    "y = 67"
   ]
  },
  {
   "cell_type": "code",
   "execution_count": 25,
   "metadata": {
    "scrolled": true
   },
   "outputs": [
    {
     "data": {
      "text/plain": [
       "'0x55e1bbfe9bc0'"
      ]
     },
     "execution_count": 25,
     "metadata": {},
     "output_type": "execute_result"
    }
   ],
   "source": [
    "hex(id(67))"
   ]
  },
  {
   "cell_type": "code",
   "execution_count": 26,
   "metadata": {},
   "outputs": [
    {
     "data": {
      "text/plain": [
       "'0x55e1bbfe9bc0'"
      ]
     },
     "execution_count": 26,
     "metadata": {},
     "output_type": "execute_result"
    }
   ],
   "source": [
    "hex(id(x))"
   ]
  },
  {
   "cell_type": "code",
   "execution_count": 27,
   "metadata": {},
   "outputs": [
    {
     "data": {
      "text/plain": [
       "'0x55e1bbfe9bc0'"
      ]
     },
     "execution_count": 27,
     "metadata": {},
     "output_type": "execute_result"
    }
   ],
   "source": [
    "hex(id(y))"
   ]
  },
  {
   "cell_type": "code",
   "execution_count": 29,
   "metadata": {},
   "outputs": [],
   "source": [
    "x = 57"
   ]
  },
  {
   "cell_type": "code",
   "execution_count": 30,
   "metadata": {},
   "outputs": [
    {
     "data": {
      "text/plain": [
       "'0x55e1bbfe9a80'"
      ]
     },
     "execution_count": 30,
     "metadata": {},
     "output_type": "execute_result"
    }
   ],
   "source": [
    "hex(id(x))"
   ]
  },
  {
   "cell_type": "code",
   "execution_count": 31,
   "metadata": {},
   "outputs": [
    {
     "data": {
      "text/plain": [
       "'0x55e1bbfe9a80'"
      ]
     },
     "execution_count": 31,
     "metadata": {},
     "output_type": "execute_result"
    }
   ],
   "source": [
    "hex(id(57))"
   ]
  },
  {
   "cell_type": "code",
   "execution_count": 20,
   "metadata": {},
   "outputs": [
    {
     "data": {
      "text/plain": [
       "True"
      ]
     },
     "execution_count": 20,
     "metadata": {},
     "output_type": "execute_result"
    }
   ],
   "source": [
    "z is x"
   ]
  },
  {
   "cell_type": "code",
   "execution_count": 42,
   "metadata": {},
   "outputs": [],
   "source": [
    "name_lst = 'ELISHA LEKAN ITUNU OLIVE SAMUEL PATIENCE MUSTAPHA SHAMEL SENSEI'.split(' ')"
   ]
  },
  {
   "cell_type": "code",
   "execution_count": 43,
   "metadata": {},
   "outputs": [
    {
     "data": {
      "text/plain": [
       "['ELISHA',\n",
       " 'LEKAN',\n",
       " 'ITUNU',\n",
       " 'OLIVE',\n",
       " 'SAMUEL',\n",
       " 'PATIENCE',\n",
       " 'MUSTAPHA',\n",
       " 'SHAMEL',\n",
       " 'SENSEI']"
      ]
     },
     "execution_count": 43,
     "metadata": {},
     "output_type": "execute_result"
    }
   ],
   "source": [
    "name_lst"
   ]
  },
  {
   "cell_type": "code",
   "execution_count": 46,
   "metadata": {},
   "outputs": [
    {
     "data": {
      "text/plain": [
       "True"
      ]
     },
     "execution_count": 46,
     "metadata": {},
     "output_type": "execute_result"
    }
   ],
   "source": [
    "'elisha'.upper() in name_lst and 'ITUNU'.capitalize() not in name_lst"
   ]
  },
  {
   "cell_type": "code",
   "execution_count": 45,
   "metadata": {},
   "outputs": [
    {
     "data": {
      "text/plain": [
       "'Itunu'"
      ]
     },
     "execution_count": 45,
     "metadata": {},
     "output_type": "execute_result"
    }
   ],
   "source": [
    "'ITUNU'.capitalize()"
   ]
  },
  {
   "cell_type": "code",
   "execution_count": 47,
   "metadata": {},
   "outputs": [
    {
     "data": {
      "text/plain": [
       "['ELISHA',\n",
       " 'LEKAN',\n",
       " 'ITUNU',\n",
       " 'OLIVE',\n",
       " 'SAMUEL',\n",
       " 'PATIENCE',\n",
       " 'MUSTAPHA',\n",
       " 'SHAMEL',\n",
       " 'SENSEI']"
      ]
     },
     "execution_count": 47,
     "metadata": {},
     "output_type": "execute_result"
    }
   ],
   "source": [
    "name_lst"
   ]
  },
  {
   "cell_type": "code",
   "execution_count": 50,
   "metadata": {},
   "outputs": [],
   "source": [
    "name_lst.sort(reverse=True)"
   ]
  },
  {
   "cell_type": "code",
   "execution_count": 51,
   "metadata": {},
   "outputs": [
    {
     "data": {
      "text/plain": [
       "['SHAMEL',\n",
       " 'SENSEI',\n",
       " 'SAMUEL',\n",
       " 'PATIENCE',\n",
       " 'OLIVE',\n",
       " 'MUSTAPHA',\n",
       " 'LEKAN',\n",
       " 'ITUNU',\n",
       " 'ELISHA']"
      ]
     },
     "execution_count": 51,
     "metadata": {},
     "output_type": "execute_result"
    }
   ],
   "source": [
    "name_lst"
   ]
  },
  {
   "cell_type": "code",
   "execution_count": 52,
   "metadata": {},
   "outputs": [],
   "source": [
    "name_lst.append('Jerry')"
   ]
  },
  {
   "cell_type": "code",
   "execution_count": 53,
   "metadata": {},
   "outputs": [
    {
     "data": {
      "text/plain": [
       "['SHAMEL',\n",
       " 'SENSEI',\n",
       " 'SAMUEL',\n",
       " 'PATIENCE',\n",
       " 'OLIVE',\n",
       " 'MUSTAPHA',\n",
       " 'LEKAN',\n",
       " 'ITUNU',\n",
       " 'ELISHA',\n",
       " 'Jerry']"
      ]
     },
     "execution_count": 53,
     "metadata": {},
     "output_type": "execute_result"
    }
   ],
   "source": [
    "name_lst"
   ]
  },
  {
   "cell_type": "code",
   "execution_count": 54,
   "metadata": {},
   "outputs": [],
   "source": [
    "name_lst = 'ELISHA emmanuel LEKAN lizzy ITUNU idonsegit OLIVE ola SAMUEL PATIENCE MUSTAPHA SHAMEL SENSEI'.split(' ')"
   ]
  },
  {
   "cell_type": "code",
   "execution_count": 55,
   "metadata": {},
   "outputs": [
    {
     "data": {
      "text/plain": [
       "['ELISHA',\n",
       " 'emmanuel',\n",
       " 'LEKAN',\n",
       " 'lizzy',\n",
       " 'ITUNU',\n",
       " 'idonsegit',\n",
       " 'OLIVE',\n",
       " 'ola',\n",
       " 'SAMUEL',\n",
       " 'PATIENCE',\n",
       " 'MUSTAPHA',\n",
       " 'SHAMEL',\n",
       " 'SENSEI']"
      ]
     },
     "execution_count": 55,
     "metadata": {},
     "output_type": "execute_result"
    }
   ],
   "source": [
    "name_lst"
   ]
  },
  {
   "cell_type": "code",
   "execution_count": 56,
   "metadata": {},
   "outputs": [],
   "source": [
    "name_lst.sort()"
   ]
  },
  {
   "cell_type": "code",
   "execution_count": 57,
   "metadata": {},
   "outputs": [
    {
     "data": {
      "text/plain": [
       "['ELISHA',\n",
       " 'ITUNU',\n",
       " 'LEKAN',\n",
       " 'MUSTAPHA',\n",
       " 'OLIVE',\n",
       " 'PATIENCE',\n",
       " 'SAMUEL',\n",
       " 'SENSEI',\n",
       " 'SHAMEL',\n",
       " 'emmanuel',\n",
       " 'idonsegit',\n",
       " 'lizzy',\n",
       " 'ola']"
      ]
     },
     "execution_count": 57,
     "metadata": {},
     "output_type": "execute_result"
    }
   ],
   "source": [
    "name_lst"
   ]
  },
  {
   "cell_type": "code",
   "execution_count": 59,
   "metadata": {},
   "outputs": [
    {
     "data": {
      "text/plain": [
       "0"
      ]
     },
     "execution_count": 59,
     "metadata": {},
     "output_type": "execute_result"
    }
   ],
   "source": [
    "name_lst.count('JOLADE')"
   ]
  },
  {
   "cell_type": "code",
   "execution_count": 60,
   "metadata": {},
   "outputs": [
    {
     "data": {
      "text/plain": [
       "'S'"
      ]
     },
     "execution_count": 60,
     "metadata": {},
     "output_type": "execute_result"
    }
   ],
   "source": [
    "'ELISHA'[3]"
   ]
  },
  {
   "cell_type": "code",
   "execution_count": null,
   "metadata": {},
   "outputs": [],
   "source": []
  }
 ],
 "metadata": {
  "kernelspec": {
   "display_name": "Python 3",
   "language": "python",
   "name": "python3"
  },
  "language_info": {
   "codemirror_mode": {
    "name": "ipython",
    "version": 3
   },
   "file_extension": ".py",
   "mimetype": "text/x-python",
   "name": "python",
   "nbconvert_exporter": "python",
   "pygments_lexer": "ipython3",
   "version": "3.7.1"
  }
 },
 "nbformat": 4,
 "nbformat_minor": 2
}
